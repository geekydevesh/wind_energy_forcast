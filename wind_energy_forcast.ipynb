{
  "nbformat": 4,
  "nbformat_minor": 0,
  "metadata": {
    "colab": {
      "name": "wind_energy_forcast.ipynb",
      "provenance": [],
      "mount_file_id": "1WO4SSRqeGqwGXs0J_j2egoPim4LWeKGQ",
      "authorship_tag": "ABX9TyM4/dy8obE0covY1VJa0YRw",
      "include_colab_link": true
    },
    "kernelspec": {
      "name": "python3",
      "display_name": "Python 3"
    },
    "accelerator": "TPU"
  },
  "cells": [
    {
      "cell_type": "markdown",
      "metadata": {
        "id": "view-in-github",
        "colab_type": "text"
      },
      "source": [
        "<a href=\"https://colab.research.google.com/github/geekydevesh/wind_energy_forcast/blob/master/wind_energy_forcast.ipynb\" target=\"_parent\"><img src=\"https://colab.research.google.com/assets/colab-badge.svg\" alt=\"Open In Colab\"/></a>"
      ]
    },
    {
      "cell_type": "code",
      "metadata": {
        "id": "ALRsYwt82ZdK",
        "colab_type": "code",
        "colab": {
          "base_uri": "https://localhost:8080/",
          "height": 34
        },
        "outputId": "bb31da52-b179-49f4-c72a-91911067431d"
      },
      "source": [
        "\n",
        "import numpy\n",
        "import matplotlib.pyplot as plt\n",
        "import pandas\n",
        "import math\n",
        "from keras.models import Sequential\n",
        "from keras.layers import Dense\n",
        "from keras.layers import LSTM\n",
        "from sklearn.preprocessing import MinMaxScaler\n",
        "from sklearn.metrics import mean_squared_error"
      ],
      "execution_count": 10,
      "outputs": [
        {
          "output_type": "stream",
          "text": [
            "Using TensorFlow backend.\n"
          ],
          "name": "stderr"
        }
      ]
    },
    {
      "cell_type": "code",
      "metadata": {
        "id": "BK0Bv_Dj2feW",
        "colab_type": "code",
        "colab": {}
      },
      "source": [
        "# fix random seed for reproducibility\n",
        "numpy.random.seed(7)"
      ],
      "execution_count": 0,
      "outputs": []
    },
    {
      "cell_type": "code",
      "metadata": {
        "id": "a63VtyMb3DEw",
        "colab_type": "code",
        "colab": {
          "base_uri": "https://localhost:8080/",
          "height": 136
        },
        "outputId": "4aaf86df-c64d-4bd0-92e2-f506f7fd41cb"
      },
      "source": [
        "dataframe = pandas.read_csv('/content/drive/My Drive/T1.csv', usecols=[0], engine='python')\n",
        "dataset = dataframe.values\n",
        "dataset = dataset.astype('float32')\n",
        "dataset"
      ],
      "execution_count": 12,
      "outputs": [
        {
          "output_type": "execute_result",
          "data": {
            "text/plain": [
              "array([[ 380.0478],\n",
              "       [ 453.7692],\n",
              "       [ 306.3766],\n",
              "       ...,\n",
              "       [2201.107 ],\n",
              "       [2515.694 ],\n",
              "       [2820.466 ]], dtype=float32)"
            ]
          },
          "metadata": {
            "tags": []
          },
          "execution_count": 12
        }
      ]
    },
    {
      "cell_type": "code",
      "metadata": {
        "id": "8VlN7SzJ3LOT",
        "colab_type": "code",
        "colab": {
          "base_uri": "https://localhost:8080/",
          "height": 136
        },
        "outputId": "32d074a0-9629-4917-f6f7-06cd8439acc0"
      },
      "source": [
        "\n",
        "# normalize the dataset\n",
        "scaler = MinMaxScaler(feature_range=(0, 1))\n",
        "dataset = scaler.fit_transform(dataset)\n",
        "dataset"
      ],
      "execution_count": 13,
      "outputs": [
        {
          "output_type": "execute_result",
          "data": {
            "text/plain": [
              "array([[0.10563315],\n",
              "       [0.1259914 ],\n",
              "       [0.08528875],\n",
              "       ...,\n",
              "       [0.60852087],\n",
              "       [0.6953945 ],\n",
              "       [0.77955765]], dtype=float32)"
            ]
          },
          "metadata": {
            "tags": []
          },
          "execution_count": 13
        }
      ]
    },
    {
      "cell_type": "code",
      "metadata": {
        "id": "y9R-kiZhWuOL",
        "colab_type": "code",
        "colab": {
          "base_uri": "https://localhost:8080/",
          "height": 136
        },
        "outputId": "368d60d5-f225-4645-9fae-20d6434b3cf4"
      },
      "source": [
        "dataset"
      ],
      "execution_count": 14,
      "outputs": [
        {
          "output_type": "execute_result",
          "data": {
            "text/plain": [
              "array([[0.10563315],\n",
              "       [0.1259914 ],\n",
              "       [0.08528875],\n",
              "       ...,\n",
              "       [0.60852087],\n",
              "       [0.6953945 ],\n",
              "       [0.77955765]], dtype=float32)"
            ]
          },
          "metadata": {
            "tags": []
          },
          "execution_count": 14
        }
      ]
    },
    {
      "cell_type": "code",
      "metadata": {
        "id": "kiir0yc78suc",
        "colab_type": "code",
        "colab": {
          "base_uri": "https://localhost:8080/",
          "height": 34
        },
        "outputId": "2d430be2-1280-49e4-d118-c75792013d7c"
      },
      "source": [
        "# split into train and test sets\n",
        "train_size = int(len(dataset) * 0.67)\n",
        "test_size = len(dataset) - train_size\n",
        "train, test = dataset[0:train_size,:], dataset[train_size:len(dataset),:]\n",
        "print(len(train), len(test))"
      ],
      "execution_count": 15,
      "outputs": [
        {
          "output_type": "stream",
          "text": [
            "33855 16675\n"
          ],
          "name": "stdout"
        }
      ]
    },
    {
      "cell_type": "code",
      "metadata": {
        "id": "uRoGjuAu9CpH",
        "colab_type": "code",
        "colab": {}
      },
      "source": [
        "# convert an array of values into a dataset matrix\n",
        "def create_dataset(dataset, look_back=1):\n",
        "\tdataX, dataY = [], []\n",
        "\tfor i in range(len(dataset)-look_back-1):\n",
        "\t\ta = dataset[i:(i+look_back), 0]\n",
        "\t\tdataX.append(a)\n",
        "\t\tdataY.append(dataset[i + look_back, 0])\n",
        "\treturn numpy.array(dataX), numpy.array(dataY)\n",
        " "
      ],
      "execution_count": 0,
      "outputs": []
    },
    {
      "cell_type": "code",
      "metadata": {
        "id": "9q3c0F1k9IkI",
        "colab_type": "code",
        "colab": {}
      },
      "source": [
        "\n",
        "# reshape into X=t and Y=t+1\n",
        "look_back = 1\n",
        "trainX, trainY = create_dataset(train, look_back)\n",
        "testX, testY = create_dataset(test, look_back)"
      ],
      "execution_count": 0,
      "outputs": []
    },
    {
      "cell_type": "code",
      "metadata": {
        "id": "1NWcbr3E9Ngy",
        "colab_type": "code",
        "colab": {}
      },
      "source": [
        "\n",
        "\n",
        "# reshape input to be [samples, time steps, features]\n",
        "trainX = numpy.reshape(trainX, (trainX.shape[0], 1, trainX.shape[1]))\n",
        "testX = numpy.reshape(testX, (testX.shape[0], 1, testX.shape[1]))"
      ],
      "execution_count": 0,
      "outputs": []
    },
    {
      "cell_type": "code",
      "metadata": {
        "id": "PfC3KwF89TmP",
        "colab_type": "code",
        "colab": {
          "base_uri": "https://localhost:8080/",
          "height": 1000
        },
        "outputId": "53e43d10-df8b-4273-83ad-510cfec4b11f"
      },
      "source": [
        "\n",
        "# create and fit the LSTM network\n",
        "model = Sequential()\n",
        "model.add(LSTM(4, input_shape=(1, look_back)))\n",
        "model.add(Dense(1))\n",
        "model.compile(loss='mean_squared_error', optimizer='adam')\n",
        "model.fit(trainX, trainY, epochs=100, batch_size=1, verbose=2)"
      ],
      "execution_count": 19,
      "outputs": [
        {
          "output_type": "stream",
          "text": [
            "Epoch 1/100\n",
            " - 41s - loss: 0.0069\n",
            "Epoch 2/100\n",
            " - 41s - loss: 0.0049\n",
            "Epoch 3/100\n",
            " - 41s - loss: 0.0049\n",
            "Epoch 4/100\n",
            " - 41s - loss: 0.0048\n",
            "Epoch 5/100\n",
            " - 40s - loss: 0.0048\n",
            "Epoch 6/100\n",
            " - 40s - loss: 0.0048\n",
            "Epoch 7/100\n",
            " - 40s - loss: 0.0048\n",
            "Epoch 8/100\n",
            " - 40s - loss: 0.0048\n",
            "Epoch 9/100\n",
            " - 40s - loss: 0.0048\n",
            "Epoch 10/100\n",
            " - 42s - loss: 0.0048\n",
            "Epoch 11/100\n",
            " - 40s - loss: 0.0048\n",
            "Epoch 12/100\n",
            " - 40s - loss: 0.0048\n",
            "Epoch 13/100\n",
            " - 40s - loss: 0.0048\n",
            "Epoch 14/100\n",
            " - 40s - loss: 0.0048\n",
            "Epoch 15/100\n",
            " - 40s - loss: 0.0048\n",
            "Epoch 16/100\n",
            " - 40s - loss: 0.0048\n",
            "Epoch 17/100\n",
            " - 40s - loss: 0.0048\n",
            "Epoch 18/100\n",
            " - 41s - loss: 0.0048\n",
            "Epoch 19/100\n",
            " - 40s - loss: 0.0048\n",
            "Epoch 20/100\n",
            " - 40s - loss: 0.0048\n",
            "Epoch 21/100\n",
            " - 40s - loss: 0.0048\n",
            "Epoch 22/100\n",
            " - 40s - loss: 0.0048\n",
            "Epoch 23/100\n",
            " - 40s - loss: 0.0048\n",
            "Epoch 24/100\n",
            " - 40s - loss: 0.0048\n",
            "Epoch 25/100\n",
            " - 40s - loss: 0.0048\n",
            "Epoch 26/100\n",
            " - 41s - loss: 0.0048\n",
            "Epoch 27/100\n",
            " - 40s - loss: 0.0048\n",
            "Epoch 28/100\n",
            " - 40s - loss: 0.0048\n",
            "Epoch 29/100\n",
            " - 39s - loss: 0.0048\n",
            "Epoch 30/100\n",
            " - 40s - loss: 0.0048\n",
            "Epoch 31/100\n",
            " - 40s - loss: 0.0048\n",
            "Epoch 32/100\n",
            " - 40s - loss: 0.0048\n",
            "Epoch 33/100\n",
            " - 40s - loss: 0.0048\n",
            "Epoch 34/100\n",
            " - 41s - loss: 0.0048\n",
            "Epoch 35/100\n",
            " - 40s - loss: 0.0048\n",
            "Epoch 36/100\n",
            " - 40s - loss: 0.0048\n",
            "Epoch 37/100\n",
            " - 40s - loss: 0.0048\n",
            "Epoch 38/100\n",
            " - 40s - loss: 0.0048\n",
            "Epoch 39/100\n",
            " - 39s - loss: 0.0048\n",
            "Epoch 40/100\n",
            " - 40s - loss: 0.0048\n",
            "Epoch 41/100\n",
            " - 41s - loss: 0.0048\n",
            "Epoch 42/100\n",
            " - 40s - loss: 0.0048\n",
            "Epoch 43/100\n",
            " - 40s - loss: 0.0048\n",
            "Epoch 44/100\n",
            " - 40s - loss: 0.0048\n",
            "Epoch 45/100\n",
            " - 40s - loss: 0.0048\n",
            "Epoch 46/100\n",
            " - 40s - loss: 0.0048\n",
            "Epoch 47/100\n",
            " - 40s - loss: 0.0048\n",
            "Epoch 48/100\n",
            " - 40s - loss: 0.0048\n",
            "Epoch 49/100\n",
            " - 40s - loss: 0.0048\n",
            "Epoch 50/100\n",
            " - 40s - loss: 0.0048\n",
            "Epoch 51/100\n",
            " - 39s - loss: 0.0047\n",
            "Epoch 52/100\n",
            " - 40s - loss: 0.0048\n",
            "Epoch 53/100\n",
            " - 40s - loss: 0.0048\n",
            "Epoch 54/100\n",
            " - 40s - loss: 0.0048\n",
            "Epoch 55/100\n",
            " - 40s - loss: 0.0048\n",
            "Epoch 56/100\n",
            " - 40s - loss: 0.0048\n",
            "Epoch 57/100\n",
            " - 40s - loss: 0.0047\n",
            "Epoch 58/100\n",
            " - 40s - loss: 0.0047\n",
            "Epoch 59/100\n",
            " - 40s - loss: 0.0048\n",
            "Epoch 60/100\n",
            " - 39s - loss: 0.0048\n",
            "Epoch 61/100\n",
            " - 40s - loss: 0.0048\n",
            "Epoch 62/100\n",
            " - 40s - loss: 0.0047\n",
            "Epoch 63/100\n",
            " - 40s - loss: 0.0048\n",
            "Epoch 64/100\n",
            " - 40s - loss: 0.0048\n",
            "Epoch 65/100\n",
            " - 41s - loss: 0.0047\n",
            "Epoch 66/100\n",
            " - 40s - loss: 0.0048\n",
            "Epoch 67/100\n",
            " - 41s - loss: 0.0047\n",
            "Epoch 68/100\n",
            " - 40s - loss: 0.0048\n",
            "Epoch 69/100\n",
            " - 40s - loss: 0.0048\n",
            "Epoch 70/100\n",
            " - 40s - loss: 0.0048\n",
            "Epoch 71/100\n",
            " - 40s - loss: 0.0047\n",
            "Epoch 72/100\n",
            " - 40s - loss: 0.0047\n",
            "Epoch 73/100\n",
            " - 40s - loss: 0.0047\n",
            "Epoch 74/100\n",
            " - 40s - loss: 0.0047\n",
            "Epoch 75/100\n",
            " - 40s - loss: 0.0048\n",
            "Epoch 76/100\n",
            " - 40s - loss: 0.0047\n",
            "Epoch 77/100\n",
            " - 40s - loss: 0.0048\n",
            "Epoch 78/100\n",
            " - 39s - loss: 0.0047\n",
            "Epoch 79/100\n",
            " - 40s - loss: 0.0047\n",
            "Epoch 80/100\n",
            " - 40s - loss: 0.0048\n",
            "Epoch 81/100\n",
            " - 40s - loss: 0.0047\n",
            "Epoch 82/100\n",
            " - 40s - loss: 0.0047\n",
            "Epoch 83/100\n",
            " - 40s - loss: 0.0047\n",
            "Epoch 84/100\n",
            " - 39s - loss: 0.0047\n",
            "Epoch 85/100\n",
            " - 40s - loss: 0.0047\n",
            "Epoch 86/100\n",
            " - 39s - loss: 0.0047\n",
            "Epoch 87/100\n",
            " - 39s - loss: 0.0047\n",
            "Epoch 88/100\n",
            " - 41s - loss: 0.0047\n",
            "Epoch 89/100\n",
            " - 40s - loss: 0.0047\n",
            "Epoch 90/100\n",
            " - 40s - loss: 0.0047\n",
            "Epoch 91/100\n",
            " - 40s - loss: 0.0047\n",
            "Epoch 92/100\n",
            " - 41s - loss: 0.0048\n",
            "Epoch 93/100\n",
            " - 40s - loss: 0.0047\n",
            "Epoch 94/100\n",
            " - 40s - loss: 0.0047\n",
            "Epoch 95/100\n",
            " - 40s - loss: 0.0047\n",
            "Epoch 96/100\n",
            " - 40s - loss: 0.0047\n",
            "Epoch 97/100\n",
            " - 40s - loss: 0.0047\n",
            "Epoch 98/100\n",
            " - 40s - loss: 0.0048\n",
            "Epoch 99/100\n",
            " - 40s - loss: 0.0047\n",
            "Epoch 100/100\n",
            " - 40s - loss: 0.0047\n"
          ],
          "name": "stdout"
        },
        {
          "output_type": "execute_result",
          "data": {
            "text/plain": [
              "<keras.callbacks.callbacks.History at 0x7fdd7db6cf60>"
            ]
          },
          "metadata": {
            "tags": []
          },
          "execution_count": 19
        }
      ]
    },
    {
      "cell_type": "code",
      "metadata": {
        "id": "0B_V3Sawu7L-",
        "colab_type": "code",
        "colab": {
          "base_uri": "https://localhost:8080/",
          "height": 51
        },
        "outputId": "46580262-9933-49fd-84a4-580dc703a45b"
      },
      "source": [
        "# make predictions\n",
        "trainPredict = model.predict(trainX)\n",
        "testPredict = model.predict(testX)\n",
        "# invert predictions\n",
        "trainPredict = scaler.inverse_transform(trainPredict)\n",
        "trainY = scaler.inverse_transform([trainY])\n",
        "testPredict = scaler.inverse_transform(testPredict)\n",
        "testY = scaler.inverse_transform([testY])\n",
        "# calculate root mean squared error\n",
        "trainScore = math.sqrt(mean_squared_error(trainY[0], trainPredict[:,0]))\n",
        "print('Train Score: %.2f RMSE' % (trainScore))\n",
        "testScore = math.sqrt(mean_squared_error(testY[0], testPredict[:,0]))\n",
        "print('Test Score: %.2f RMSE' % (testScore))"
      ],
      "execution_count": 20,
      "outputs": [
        {
          "output_type": "stream",
          "text": [
            "Train Score: 250.04 RMSE\n",
            "Test Score: 235.82 RMSE\n"
          ],
          "name": "stdout"
        }
      ]
    },
    {
      "cell_type": "code",
      "metadata": {
        "id": "e6lR6EJkv8NS",
        "colab_type": "code",
        "colab": {
          "base_uri": "https://localhost:8080/",
          "height": 265
        },
        "outputId": "018c2d34-1678-47f0-a206-1cfdd380a7e2"
      },
      "source": [
        "\n",
        "# shift train predictions for plotting\n",
        "trainPredictPlot = numpy.empty_like(dataset)\n",
        "trainPredictPlot[:, :] = numpy.nan\n",
        "trainPredictPlot[look_back:len(trainPredict)+look_back, :] = trainPredict\n",
        "# shift test predictions for plotting\n",
        "testPredictPlot = numpy.empty_like(dataset)\n",
        "testPredictPlot[:, :] = numpy.nan\n",
        "testPredictPlot[len(trainPredict)+(look_back*2)+1:len(dataset)-1, :] = testPredict\n",
        "# plot baseline and predictions\n",
        "plt.plot(scaler.inverse_transform(dataset))\n",
        "plt.plot(trainPredictPlot)\n",
        "plt.plot(testPredictPlot)\n",
        "#plt.axis([0,60000,0,1.1])\n",
        "plt.show()"
      ],
      "execution_count": 22,
      "outputs": [
        {
          "output_type": "display_data",
          "data": {
            "image/png": "[encoded data removed]",
            "text/plain": [
              "<Figure size 432x288 with 1 Axes>"
            ]
          },
          "metadata": {
            "tags": [],
            "needs_background": "light"
          }
        }
      ]
    },
    {
      "cell_type": "code",
      "metadata": {
        "id": "f3N0OiYAz3E0",
        "colab_type": "code",
        "colab": {}
      },
      "source": [
        ""
      ],
      "execution_count": 0,
      "outputs": []
    }
  ]
}